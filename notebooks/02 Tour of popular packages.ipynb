{
 "cells": [
  {
   "cell_type": "markdown",
   "metadata": {},
   "source": [
    "# Introduction to Packages"
   ]
  },
  {
   "cell_type": "markdown",
   "metadata": {},
   "source": [
    "**Robert** how about a few lines on Pkg.add(), using, and import here?"
   ]
  },
  {
   "cell_type": "code",
   "execution_count": 1,
   "metadata": {},
   "outputs": [
    {
     "name": "stderr",
     "output_type": "stream",
     "text": [
      "\u001b[1m\u001b[36mINFO: \u001b[39m\u001b[22m\u001b[36mPackage DataFrames is already installed\n",
      "\u001b[39m\u001b[1m\u001b[36mINFO: \u001b[39m\u001b[22m\u001b[36mPackage Plots is already installed\n",
      "\u001b[39m\u001b[1m\u001b[36mINFO: \u001b[39m\u001b[22m\u001b[36mPackage PyPlot is already installed\n",
      "\u001b[39m\u001b[1m\u001b[36mINFO: \u001b[39m\u001b[22m\u001b[36mPackage StatPlots is already installed\n",
      "\u001b[39m\u001b[1m\u001b[36mINFO: \u001b[39m\u001b[22m\u001b[36mPackage JuMP is already installed\n",
      "\u001b[39m\u001b[1m\u001b[36mINFO: \u001b[39m\u001b[22m\u001b[36mPackage Cbc is already installed\n",
      "\u001b[39m"
     ]
    }
   ],
   "source": [
    "Pkg.add(\"DataFrames\")\n",
    "\n",
    "Pkg.add(\"Plots\")\n",
    "Pkg.add(\"PyPlot\")\n",
    "Pkg.add(\"StatPlots\")\n",
    "\n",
    "Pkg.add(\"JuMP\")\n",
    "Pkg.add(\"Cbc\")"
   ]
  },
  {
   "cell_type": "markdown",
   "metadata": {},
   "source": [
    "# Creating an index fund\n",
    "\n",
    "The goal of this project is the definition of an index fund, following the Dow Jones. That is, we want to select few stocks of the index, together with weights, that show a similar behavior to the overall index.\n",
    "\n",
    "We start with price data of all the Dow Jones stocks from 2016. From the averages prices, we define weights of the stocks to be used"
   ]
  },
  {
   "cell_type": "markdown",
   "metadata": {},
   "source": [
    "## Loading the price data\n",
    "\n",
    "The data is provided in a file using comma-separated values and three columns:"
   ]
  },
  {
   "cell_type": "code",
   "execution_count": 2,
   "metadata": {},
   "outputs": [
    {
     "name": "stdout",
     "output_type": "stream",
     "text": [
      "date,symbol,price\n",
      "2016-01-04,AAPL,105.349997999999999\n",
      "2016-01-04,AXP,67.589995999999999\n",
      "2016-01-04,BA,140.500000000000000\n",
      "2016-01-04,CAT,67.989998000000000\n",
      "2016-01-04,CSCO,26.410000000000000\n",
      "2016-01-04,CVX,88.849997999999999\n",
      "2016-01-04,DD,63.070000000000000\n",
      "2016-01-04,DIS,102.980002999999996\n",
      "2016-01-04,GE,30.709999000000000\n"
     ]
    }
   ],
   "source": [
    ";head dowjones2016.csv"
   ]
  },
  {
   "cell_type": "markdown",
   "metadata": {},
   "source": [
    "Julia provides a function to read csv files into arrays:"
   ]
  },
  {
   "cell_type": "code",
   "execution_count": 3,
   "metadata": {},
   "outputs": [
    {
     "name": "stdout",
     "output_type": "stream",
     "text": [
      "search: \u001b[1mr\u001b[22m\u001b[1me\u001b[22m\u001b[1ma\u001b[22m\u001b[1md\u001b[22m\u001b[1mc\u001b[22m\u001b[1ms\u001b[22m\u001b[1mv\u001b[22m \u001b[1mr\u001b[22m\u001b[1me\u001b[22m\u001b[1ma\u001b[22m\u001b[1md\u001b[22m\u001b[1mc\u001b[22mhomp @th\u001b[1mr\u001b[22m\u001b[1me\u001b[22m\u001b[1ma\u001b[22m\u001b[1md\u001b[22m\u001b[1mc\u001b[22mall\n",
      "\n"
     ]
    },
    {
     "data": {
      "text/markdown": [
       "```\n",
       "readcsv(source, [T::Type]; options...)\n",
       "```\n",
       "\n",
       "Equivalent to [`readdlm`](@ref) with `delim` set to comma, and type optionally defined by `T`.\n"
      ],
      "text/plain": [
       "```\n",
       "readcsv(source, [T::Type]; options...)\n",
       "```\n",
       "\n",
       "Equivalent to [`readdlm`](@ref) with `delim` set to comma, and type optionally defined by `T`.\n"
      ]
     },
     "execution_count": 3,
     "metadata": {},
     "output_type": "execute_result"
    }
   ],
   "source": [
    "?readcsv"
   ]
  },
  {
   "cell_type": "code",
   "execution_count": 4,
   "metadata": {},
   "outputs": [
    {
     "data": {
      "text/plain": [
       "5×3 Array{Any,2}:\n",
       " \"date\"        \"symbol\"     \"price\"\n",
       " \"2016-01-04\"  \"AAPL\"    105.35    \n",
       " \"2016-01-04\"  \"AXP\"      67.59    \n",
       " \"2016-01-04\"  \"BA\"      140.5     \n",
       " \"2016-01-04\"  \"CAT\"      67.99    "
      ]
     },
     "execution_count": 4,
     "metadata": {},
     "output_type": "execute_result"
    }
   ],
   "source": [
    "data = readcsv(\"dowjones2016.csv\");\n",
    "data[1:5,:]"
   ]
  },
  {
   "cell_type": "markdown",
   "metadata": {},
   "source": [
    "But we will use the DataFrames package for easier processing."
   ]
  },
  {
   "cell_type": "code",
   "execution_count": 5,
   "metadata": {
    "collapsed": true
   },
   "outputs": [],
   "source": [
    "using DataFrames"
   ]
  },
  {
   "cell_type": "code",
   "execution_count": 6,
   "metadata": {
    "scrolled": true
   },
   "outputs": [
    {
     "name": "stdout",
     "output_type": "stream",
     "text": [
      "search: \u001b[1mr\u001b[22m\u001b[1me\u001b[22m\u001b[1ma\u001b[22m\u001b[1md\u001b[22m\u001b[1mt\u001b[22m\u001b[1ma\u001b[22m\u001b[1mb\u001b[22m\u001b[1ml\u001b[22m\u001b[1me\u001b[22m\n",
      "\n"
     ]
    },
    {
     "data": {
      "text/markdown": [
       "Read data from a tabular-file format (CSV, TSV, ...)\n",
       "\n",
       "```julia\n",
       "readtable(filename, [keyword options])\n",
       "```\n",
       "\n",
       "### Arguments\n",
       "\n",
       "  * `filename::AbstractString` : the filename to be read\n",
       "\n",
       "### Keyword Arguments\n",
       "\n",
       "  * `header::Bool` – Use the information from the file's header line to determine column names. Defaults to `true`.\n",
       "  * `separator::Char` – Assume that fields are split by the `separator` character. If not specified, it will be guessed from the filename: `.csv` defaults to `','`, `.tsv` defaults to `'\t'`, `.wsv` defaults to `' '`.\n",
       "  * `quotemark::Vector{Char}` – Assume that fields contained inside of two `quotemark` characters are quoted, which disables processing of separators and linebreaks. Set to `Char[]` to disable this feature and slightly improve performance. Defaults to `['\"']`.\n",
       "  * `decimal::Char` – Assume that the decimal place in numbers is written using the `decimal` character. Defaults to `'.'`.\n",
       "  * `nastrings::Vector{String}` – Translate any of the strings into this vector into an `NA`. Defaults to `[\"\", \"NA\"]`.\n",
       "  * `truestrings::Vector{String}` – Translate any of the strings into this vector into a Boolean `true`. Defaults to `[\"T\", \"t\", \"TRUE\", \"true\"]`.\n",
       "  * `falsestrings::Vector{String}` – Translate any of the strings into this vector into a Boolean `false`. Defaults to `[\"F\", \"f\", \"FALSE\", \"false\"]`.\n",
       "  * `makefactors::Bool` – Convert string columns into `PooledDataVector`'s for use as factors. Defaults to `false`.\n",
       "  * `nrows::Int` – Read only `nrows` from the file. Defaults to `-1`, which indicates that the entire file should be read.\n",
       "  * `names::Vector{Symbol}` – Use the values in this array as the names for all columns instead of or in lieu of the names in the file's header. Defaults to `[]`, which indicates that the header should be used if present or that numeric names should be invented if there is no header.\n",
       "  * `eltypes::Vector` – Specify the types of all columns. Defaults to `[]`.\n",
       "  * `allowcomments::Bool` – Ignore all text inside comments. Defaults to `false`.\n",
       "  * `commentmark::Char` – Specify the character that starts comments. Defaults to `'#'`.\n",
       "  * `ignorepadding::Bool` – Ignore all whitespace on left and right sides of a field. Defaults to `true`.\n",
       "  * `skipstart::Int` – Specify the number of initial rows to skip. Defaults to `0`.\n",
       "  * `skiprows::Vector{Int}` – Specify the indices of lines in the input to ignore. Defaults to `[]`.\n",
       "  * `skipblanks::Bool` – Skip any blank lines in input. Defaults to `true`.\n",
       "  * `encoding::Symbol` – Specify the file's encoding as either `:utf8` or `:latin1`. Defaults to `:utf8`.\n",
       "  * `normalizenames::Bool` – Ensure that column names are valid Julia identifiers. For instance this renames a column named `\"a b\"` to `\"a_b\"` which can then be accessed with `:a_b` instead of `Symbol(\"a b\")`. Defaults to `true`.\n",
       "\n",
       "### Result\n",
       "\n",
       "  * `::DataFrame`\n",
       "\n",
       "### Examples\n",
       "\n",
       "```julia\n",
       "df = readtable(\"data.csv\")\n",
       "df = readtable(\"data.tsv\")\n",
       "df = readtable(\"data.wsv\")\n",
       "df = readtable(\"data.txt\", separator = '\t')\n",
       "df = readtable(\"data.txt\", header = false)\n",
       "```\n"
      ],
      "text/plain": [
       "Read data from a tabular-file format (CSV, TSV, ...)\n",
       "\n",
       "```julia\n",
       "readtable(filename, [keyword options])\n",
       "```\n",
       "\n",
       "### Arguments\n",
       "\n",
       "  * `filename::AbstractString` : the filename to be read\n",
       "\n",
       "### Keyword Arguments\n",
       "\n",
       "  * `header::Bool` – Use the information from the file's header line to determine column names. Defaults to `true`.\n",
       "  * `separator::Char` – Assume that fields are split by the `separator` character. If not specified, it will be guessed from the filename: `.csv` defaults to `','`, `.tsv` defaults to `'\t'`, `.wsv` defaults to `' '`.\n",
       "  * `quotemark::Vector{Char}` – Assume that fields contained inside of two `quotemark` characters are quoted, which disables processing of separators and linebreaks. Set to `Char[]` to disable this feature and slightly improve performance. Defaults to `['\"']`.\n",
       "  * `decimal::Char` – Assume that the decimal place in numbers is written using the `decimal` character. Defaults to `'.'`.\n",
       "  * `nastrings::Vector{String}` – Translate any of the strings into this vector into an `NA`. Defaults to `[\"\", \"NA\"]`.\n",
       "  * `truestrings::Vector{String}` – Translate any of the strings into this vector into a Boolean `true`. Defaults to `[\"T\", \"t\", \"TRUE\", \"true\"]`.\n",
       "  * `falsestrings::Vector{String}` – Translate any of the strings into this vector into a Boolean `false`. Defaults to `[\"F\", \"f\", \"FALSE\", \"false\"]`.\n",
       "  * `makefactors::Bool` – Convert string columns into `PooledDataVector`'s for use as factors. Defaults to `false`.\n",
       "  * `nrows::Int` – Read only `nrows` from the file. Defaults to `-1`, which indicates that the entire file should be read.\n",
       "  * `names::Vector{Symbol}` – Use the values in this array as the names for all columns instead of or in lieu of the names in the file's header. Defaults to `[]`, which indicates that the header should be used if present or that numeric names should be invented if there is no header.\n",
       "  * `eltypes::Vector` – Specify the types of all columns. Defaults to `[]`.\n",
       "  * `allowcomments::Bool` – Ignore all text inside comments. Defaults to `false`.\n",
       "  * `commentmark::Char` – Specify the character that starts comments. Defaults to `'#'`.\n",
       "  * `ignorepadding::Bool` – Ignore all whitespace on left and right sides of a field. Defaults to `true`.\n",
       "  * `skipstart::Int` – Specify the number of initial rows to skip. Defaults to `0`.\n",
       "  * `skiprows::Vector{Int}` – Specify the indices of lines in the input to ignore. Defaults to `[]`.\n",
       "  * `skipblanks::Bool` – Skip any blank lines in input. Defaults to `true`.\n",
       "  * `encoding::Symbol` – Specify the file's encoding as either `:utf8` or `:latin1`. Defaults to `:utf8`.\n",
       "  * `normalizenames::Bool` – Ensure that column names are valid Julia identifiers. For instance this renames a column named `\"a b\"` to `\"a_b\"` which can then be accessed with `:a_b` instead of `Symbol(\"a b\")`. Defaults to `true`.\n",
       "\n",
       "### Result\n",
       "\n",
       "  * `::DataFrame`\n",
       "\n",
       "### Examples\n",
       "\n",
       "```julia\n",
       "df = readtable(\"data.csv\")\n",
       "df = readtable(\"data.tsv\")\n",
       "df = readtable(\"data.wsv\")\n",
       "df = readtable(\"data.txt\", separator = '\t')\n",
       "df = readtable(\"data.txt\", header = false)\n",
       "```\n"
      ]
     },
     "execution_count": 6,
     "metadata": {},
     "output_type": "execute_result"
    }
   ],
   "source": [
    "?readtable"
   ]
  },
  {
   "cell_type": "code",
   "execution_count": 7,
   "metadata": {},
   "outputs": [
    {
     "data": {
      "text/html": [
       "<table class=\"data-frame\"><thead><tr><th></th><th>date</th><th>symbol</th><th>price</th></tr></thead><tbody><tr><th>1</th><td>2016-01-04</td><td>AAPL</td><td>105.349998</td></tr><tr><th>2</th><td>2016-01-04</td><td>AXP</td><td>67.589996</td></tr><tr><th>3</th><td>2016-01-04</td><td>BA</td><td>140.5</td></tr><tr><th>4</th><td>2016-01-04</td><td>CAT</td><td>67.989998</td></tr></tbody></table>"
      ],
      "text/plain": [
       "4×3 DataFrames.DataFrame\n",
       "│ Row │ date         │ symbol │ price  │\n",
       "├─────┼──────────────┼────────┼────────┤\n",
       "│ 1   │ \"2016-01-04\" │ \"AAPL\" │ 105.35 │\n",
       "│ 2   │ \"2016-01-04\" │ \"AXP\"  │ 67.59  │\n",
       "│ 3   │ \"2016-01-04\" │ \"BA\"   │ 140.5  │\n",
       "│ 4   │ \"2016-01-04\" │ \"CAT\"  │ 67.99  │"
      ]
     },
     "execution_count": 7,
     "metadata": {},
     "output_type": "execute_result"
    }
   ],
   "source": [
    "df = readtable(\"dowjones2016.csv\")\n",
    "df[1:4, :]"
   ]
  },
  {
   "cell_type": "markdown",
   "metadata": {},
   "source": [
    "We can now access the columns by name:"
   ]
  },
  {
   "cell_type": "code",
   "execution_count": 8,
   "metadata": {},
   "outputs": [
    {
     "data": {
      "text/plain": [
       "7560-element DataArrays.DataArray{Float64,1}:\n",
       " 105.35\n",
       "  67.59\n",
       " 140.5 \n",
       "  67.99\n",
       "  26.41\n",
       "  88.85\n",
       "  63.07\n",
       " 102.98\n",
       "  30.71\n",
       " 177.14\n",
       " 131.07\n",
       " 135.95\n",
       "  33.99\n",
       "   ⋮   \n",
       "  58.87\n",
       "  62.14\n",
       "  50.83\n",
       "  32.48\n",
       "  84.08\n",
       " 122.42\n",
       " 160.04\n",
       " 109.62\n",
       "  78.02\n",
       "  53.38\n",
       "  69.12\n",
       "  90.26"
      ]
     },
     "execution_count": 8,
     "metadata": {},
     "output_type": "execute_result"
    }
   ],
   "source": [
    "df[:price]"
   ]
  },
  {
   "cell_type": "markdown",
   "metadata": {},
   "source": [
    "Let's compute mean prices for the stocks, using a groupby-and-aggregate approach."
   ]
  },
  {
   "cell_type": "code",
   "execution_count": 9,
   "metadata": {},
   "outputs": [
    {
     "name": "stdout",
     "output_type": "stream",
     "text": [
      "search: \u001b[1mb\u001b[22m\u001b[1my\u001b[22m \u001b[1mb\u001b[22m\u001b[1my\u001b[22mtes2hex hex2\u001b[1mb\u001b[22m\u001b[1my\u001b[22mtes read\u001b[1mb\u001b[22m\u001b[1my\u001b[22mtes! group\u001b[1mb\u001b[22m\u001b[1my\u001b[22m su\u001b[1mb\u001b[22mt\u001b[1my\u001b[22mpes issu\u001b[1mb\u001b[22mt\u001b[1my\u001b[22mpe Su\u001b[1mb\u001b[22mArra\u001b[1my\u001b[22m\n",
      "\n"
     ]
    },
    {
     "data": {
      "text/markdown": [
       "Split-apply-combine in one step; apply `f` to each grouping in `d` based on columns `col`\n",
       "\n",
       "```julia\n",
       "by(d::AbstractDataFrame, cols, f::Function)\n",
       "by(f::Function, d::AbstractDataFrame, cols)\n",
       "```\n",
       "\n",
       "### Arguments\n",
       "\n",
       "  * `d` : an AbstractDataFrame\n",
       "  * `cols` : a column indicator (Symbol, Int, Vector{Symbol}, etc.)\n",
       "  * `f` : a function to be applied to groups; expects each argument to be an AbstractDataFrame\n",
       "\n",
       "`f` can return a value, a vector, or a DataFrame. For a value or vector, these are merged into a column along with the `cols` keys. For a DataFrame, `cols` are combined along columns with the resulting DataFrame. Returning a DataFrame is the clearest because it allows column labeling.\n",
       "\n",
       "A method is defined with `f` as the first argument, so do-block notation can be used.\n",
       "\n",
       "`by(d, cols, f)` is equivalent to `combine(map(f, groupby(d, cols)))`.\n",
       "\n",
       "### Returns\n",
       "\n",
       "  * `::DataFrame`\n",
       "\n",
       "### Examples\n",
       "\n",
       "```julia\n",
       "df = DataFrame(a = repeat([1, 2, 3, 4], outer=[2]),\n",
       "               b = repeat([2, 1], outer=[4]),\n",
       "               c = randn(8))\n",
       "by(df, :a, d -> sum(d[:c]))\n",
       "by(df, :a, d -> 2 * d[:c])\n",
       "by(df, :a, d -> DataFrame(c_sum = sum(d[:c]), c_mean = mean(d[:c])))\n",
       "by(df, :a, d -> DataFrame(c = d[:c], c_mean = mean(d[:c])))\n",
       "by(df, [:a, :b]) do d\n",
       "    DataFrame(m = mean(d[:c]), v = var(d[:c]))\n",
       "end\n",
       "```\n"
      ],
      "text/plain": [
       "Split-apply-combine in one step; apply `f` to each grouping in `d` based on columns `col`\n",
       "\n",
       "```julia\n",
       "by(d::AbstractDataFrame, cols, f::Function)\n",
       "by(f::Function, d::AbstractDataFrame, cols)\n",
       "```\n",
       "\n",
       "### Arguments\n",
       "\n",
       "  * `d` : an AbstractDataFrame\n",
       "  * `cols` : a column indicator (Symbol, Int, Vector{Symbol}, etc.)\n",
       "  * `f` : a function to be applied to groups; expects each argument to be an AbstractDataFrame\n",
       "\n",
       "`f` can return a value, a vector, or a DataFrame. For a value or vector, these are merged into a column along with the `cols` keys. For a DataFrame, `cols` are combined along columns with the resulting DataFrame. Returning a DataFrame is the clearest because it allows column labeling.\n",
       "\n",
       "A method is defined with `f` as the first argument, so do-block notation can be used.\n",
       "\n",
       "`by(d, cols, f)` is equivalent to `combine(map(f, groupby(d, cols)))`.\n",
       "\n",
       "### Returns\n",
       "\n",
       "  * `::DataFrame`\n",
       "\n",
       "### Examples\n",
       "\n",
       "```julia\n",
       "df = DataFrame(a = repeat([1, 2, 3, 4], outer=[2]),\n",
       "               b = repeat([2, 1], outer=[4]),\n",
       "               c = randn(8))\n",
       "by(df, :a, d -> sum(d[:c]))\n",
       "by(df, :a, d -> 2 * d[:c])\n",
       "by(df, :a, d -> DataFrame(c_sum = sum(d[:c]), c_mean = mean(d[:c])))\n",
       "by(df, :a, d -> DataFrame(c = d[:c], c_mean = mean(d[:c])))\n",
       "by(df, [:a, :b]) do d\n",
       "    DataFrame(m = mean(d[:c]), v = var(d[:c]))\n",
       "end\n",
       "```\n"
      ]
     },
     "execution_count": 9,
     "metadata": {},
     "output_type": "execute_result"
    }
   ],
   "source": [
    "?by"
   ]
  },
  {
   "cell_type": "code",
   "execution_count": 10,
   "metadata": {},
   "outputs": [
    {
     "data": {
      "text/html": [
       "<table class=\"data-frame\"><thead><tr><th></th><th>symbol</th><th>avgprice</th></tr></thead><tbody><tr><th>1</th><td>AAPL</td><td>104.6040078690476</td></tr><tr><th>2</th><td>AXP</td><td>63.79333337698412</td></tr><tr><th>3</th><td>BA</td><td>133.11150809920633</td></tr><tr><th>4</th><td>CAT</td><td>78.69801573015873</td></tr></tbody></table>"
      ],
      "text/plain": [
       "4×2 DataFrames.DataFrame\n",
       "│ Row │ symbol │ avgprice │\n",
       "├─────┼────────┼──────────┤\n",
       "│ 1   │ \"AAPL\" │ 104.604  │\n",
       "│ 2   │ \"AXP\"  │ 63.7933  │\n",
       "│ 3   │ \"BA\"   │ 133.112  │\n",
       "│ 4   │ \"CAT\"  │ 78.698   │"
      ]
     },
     "execution_count": 10,
     "metadata": {},
     "output_type": "execute_result"
    }
   ],
   "source": [
    "avg = by(df, :symbol) do d\n",
    "    DataFrame(avgprice = mean(d[:price]))\n",
    "end\n",
    "\n",
    "avg[1:4, :]"
   ]
  },
  {
   "cell_type": "markdown",
   "metadata": {},
   "source": [
    "We can now use these averages to compute weights."
   ]
  },
  {
   "cell_type": "code",
   "execution_count": 11,
   "metadata": {},
   "outputs": [
    {
     "data": {
      "text/html": [
       "<table class=\"data-frame\"><thead><tr><th></th><th>symbol</th><th>weight</th></tr></thead><tbody><tr><th>1</th><td>AAPL</td><td>0.03995967436333611</td></tr><tr><th>2</th><td>AXP</td><td>0.02436962866171713</td></tr><tr><th>3</th><td>BA</td><td>0.05084979654236352</td></tr><tr><th>4</th><td>CAT</td><td>0.030063351736529197</td></tr><tr><th>5</th><td>CSCO</td><td>0.010997918367605105</td></tr><tr><th>6</th><td>CVX</td><td>0.038152635259507614</td></tr><tr><th>7</th><td>DD</td><td>0.0252800076388129</td></tr><tr><th>8</th><td>DIS</td><td>0.037231281104193714</td></tr><tr><th>9</th><td>GE</td><td>0.011592973206120454</td></tr><tr><th>10</th><td>GS</td><td>0.06460300033518845</td></tr><tr><th>11</th><td>HD</td><td>0.04959253206291251</td></tr><tr><th>12</th><td>IBM</td><td>0.05749805714807221</td></tr><tr><th>13</th><td>INTC</td><td>0.012732027088307772</td></tr><tr><th>14</th><td>JNJ</td><td>0.04339901378297297</td></tr><tr><th>15</th><td>JPM</td><td>0.02506850807141437</td></tr><tr><th>16</th><td>KO</td><td>0.016634582669936473</td></tr><tr><th>17</th><td>MCD</td><td>0.04589524565592229</td></tr><tr><th>18</th><td>MMM</td><td>0.06437326462895059</td></tr><tr><th>19</th><td>MRK</td><td>0.021960531210091856</td></tr><tr><th>20</th><td>MSFT</td><td>0.021109560574682877</td></tr><tr><th>21</th><td>NKE</td><td>0.02148696132579114</td></tr><tr><th>22</th><td>PFE</td><td>0.012539794717248217</td></tr><tr><th>23</th><td>PG</td><td>0.03198003663171145</td></tr><tr><th>24</th><td>TRV</td><td>0.043329600314333847</td></tr><tr><th>25</th><td>UNH</td><td>0.051728796139020365</td></tr><tr><th>26</th><td>UTX</td><td>0.03867006052039629</td></tr><tr><th>27</th><td>V</td><td>0.02975976073814797</td></tr><tr><th>28</th><td>VZ</td><td>0.01963709779524481</td></tr><tr><th>29</th><td>WMT</td><td>0.02656760544583329</td></tr><tr><th>30</th><td>XOM</td><td>0.03293669626363464</td></tr></tbody></table>"
      ],
      "text/plain": [
       "30×2 DataFrames.DataFrame\n",
       "│ Row │ symbol │ weight    │\n",
       "├─────┼────────┼───────────┤\n",
       "│ 1   │ \"AAPL\" │ 0.0399597 │\n",
       "│ 2   │ \"AXP\"  │ 0.0243696 │\n",
       "│ 3   │ \"BA\"   │ 0.0508498 │\n",
       "│ 4   │ \"CAT\"  │ 0.0300634 │\n",
       "│ 5   │ \"CSCO\" │ 0.0109979 │\n",
       "│ 6   │ \"CVX\"  │ 0.0381526 │\n",
       "│ 7   │ \"DD\"   │ 0.02528   │\n",
       "│ 8   │ \"DIS\"  │ 0.0372313 │\n",
       "│ 9   │ \"GE\"   │ 0.011593  │\n",
       "│ 10  │ \"GS\"   │ 0.064603  │\n",
       "│ 11  │ \"HD\"   │ 0.0495925 │\n",
       "⋮\n",
       "│ 19  │ \"MRK\"  │ 0.0219605 │\n",
       "│ 20  │ \"MSFT\" │ 0.0211096 │\n",
       "│ 21  │ \"NKE\"  │ 0.021487  │\n",
       "│ 22  │ \"PFE\"  │ 0.0125398 │\n",
       "│ 23  │ \"PG\"   │ 0.03198   │\n",
       "│ 24  │ \"TRV\"  │ 0.0433296 │\n",
       "│ 25  │ \"UNH\"  │ 0.0517288 │\n",
       "│ 26  │ \"UTX\"  │ 0.0386701 │\n",
       "│ 27  │ \"V\"    │ 0.0297598 │\n",
       "│ 28  │ \"VZ\"   │ 0.0196371 │\n",
       "│ 29  │ \"WMT\"  │ 0.0265676 │\n",
       "│ 30  │ \"XOM\"  │ 0.0329367 │"
      ]
     },
     "execution_count": 11,
     "metadata": {},
     "output_type": "execute_result"
    }
   ],
   "source": [
    "weights = DataFrame(symbol = avg[:symbol], weight = avg[:avgprice] / sum(avg[:avgprice]))"
   ]
  },
  {
   "cell_type": "markdown",
   "metadata": {},
   "source": [
    "We can also _pivot_ the table into a two-way format."
   ]
  },
  {
   "cell_type": "code",
   "execution_count": 12,
   "metadata": {},
   "outputs": [
    {
     "name": "stdout",
     "output_type": "stream",
     "text": [
      "search: \u001b[1mu\u001b[22m\u001b[1mn\u001b[22m\u001b[1ms\u001b[22m\u001b[1mt\u001b[22m\u001b[1ma\u001b[22m\u001b[1mc\u001b[22m\u001b[1mk\u001b[22m Ro\u001b[1mu\u001b[22m\u001b[1mn\u001b[22mdNeare\u001b[1ms\u001b[22m\u001b[1mt\u001b[22mTies\u001b[1mA\u001b[22mway\n",
      "\n"
     ]
    },
    {
     "data": {
      "text/markdown": [
       "Unstacks a DataFrame; convert from a long to wide format\n",
       "\n",
       "```julia\n",
       "unstack(df::AbstractDataFrame, rowkey, colkey, value)\n",
       "unstack(df::AbstractDataFrame, colkey, value)\n",
       "unstack(df::AbstractDataFrame)\n",
       "```\n",
       "\n",
       "### Arguments\n",
       "\n",
       "  * `df` : the AbstractDataFrame to be unstacked\n",
       "  * `rowkey` : the column with a unique key for each row, if not given, find a key by grouping on anything not a `colkey` or `value`\n",
       "  * `colkey` : the column holding the column names in wide format, defaults to `:variable`\n",
       "  * `value` : the value column, defaults to `:value`\n",
       "\n",
       "### Result\n",
       "\n",
       "  * `::DataFrame` : the wide-format dataframe\n",
       "\n",
       "### Examples\n",
       "\n",
       "```julia\n",
       "wide = DataFrame(id = 1:12,\n",
       "                 a  = repeat([1:3;], inner = [4]),\n",
       "                 b  = repeat([1:4;], inner = [3]),\n",
       "                 c  = randn(12),\n",
       "                 d  = randn(12))\n",
       "\n",
       "long = stack(wide)\n",
       "wide0 = unstack(long)\n",
       "wide1 = unstack(long, :variable, :value)\n",
       "wide2 = unstack(long, :id, :variable, :value)\n",
       "```\n",
       "\n",
       "Note that there are some differences between the widened results above.\n"
      ],
      "text/plain": [
       "Unstacks a DataFrame; convert from a long to wide format\n",
       "\n",
       "```julia\n",
       "unstack(df::AbstractDataFrame, rowkey, colkey, value)\n",
       "unstack(df::AbstractDataFrame, colkey, value)\n",
       "unstack(df::AbstractDataFrame)\n",
       "```\n",
       "\n",
       "### Arguments\n",
       "\n",
       "  * `df` : the AbstractDataFrame to be unstacked\n",
       "  * `rowkey` : the column with a unique key for each row, if not given, find a key by grouping on anything not a `colkey` or `value`\n",
       "  * `colkey` : the column holding the column names in wide format, defaults to `:variable`\n",
       "  * `value` : the value column, defaults to `:value`\n",
       "\n",
       "### Result\n",
       "\n",
       "  * `::DataFrame` : the wide-format dataframe\n",
       "\n",
       "### Examples\n",
       "\n",
       "```julia\n",
       "wide = DataFrame(id = 1:12,\n",
       "                 a  = repeat([1:3;], inner = [4]),\n",
       "                 b  = repeat([1:4;], inner = [3]),\n",
       "                 c  = randn(12),\n",
       "                 d  = randn(12))\n",
       "\n",
       "long = stack(wide)\n",
       "wide0 = unstack(long)\n",
       "wide1 = unstack(long, :variable, :value)\n",
       "wide2 = unstack(long, :id, :variable, :value)\n",
       "```\n",
       "\n",
       "Note that there are some differences between the widened results above.\n"
      ]
     },
     "execution_count": 12,
     "metadata": {},
     "output_type": "execute_result"
    }
   ],
   "source": [
    "?unstack"
   ]
  },
  {
   "cell_type": "code",
   "execution_count": 13,
   "metadata": {},
   "outputs": [
    {
     "data": {
      "text/html": [
       "<table class=\"data-frame\"><thead><tr><th></th><th>date</th><th>AAPL</th><th>AXP</th><th>BA</th></tr></thead><tbody><tr><th>1</th><td>2016-01-04</td><td>105.349998</td><td>67.589996</td><td>140.5</td></tr><tr><th>2</th><td>2016-01-05</td><td>102.709999</td><td>66.550003</td><td>141.070007</td></tr><tr><th>3</th><td>2016-01-06</td><td>100.699997</td><td>64.419998</td><td>138.830002</td></tr><tr><th>4</th><td>2016-01-07</td><td>96.449997</td><td>63.84</td><td>133.009995</td></tr></tbody></table>"
      ],
      "text/plain": [
       "4×4 DataFrames.DataFrame\n",
       "│ Row │ date         │ AAPL   │ AXP   │ BA     │\n",
       "├─────┼──────────────┼────────┼───────┼────────┤\n",
       "│ 1   │ \"2016-01-04\" │ 105.35 │ 67.59 │ 140.5  │\n",
       "│ 2   │ \"2016-01-05\" │ 102.71 │ 66.55 │ 141.07 │\n",
       "│ 3   │ \"2016-01-06\" │ 100.7  │ 64.42 │ 138.83 │\n",
       "│ 4   │ \"2016-01-07\" │ 96.45  │ 63.84 │ 133.01 │"
      ]
     },
     "execution_count": 13,
     "metadata": {},
     "output_type": "execute_result"
    }
   ],
   "source": [
    "#                    rows   columns  data\n",
    "prices = unstack(df, :date, :symbol, :price)\n",
    "\n",
    "prices[1:4, 1:4]"
   ]
  },
  {
   "cell_type": "code",
   "execution_count": 14,
   "metadata": {},
   "outputs": [
    {
     "data": {
      "text/html": [
       "<table class=\"data-frame\"><thead><tr><th></th><th>date</th><th>symbol</th><th>price</th><th>weight</th></tr></thead><tbody><tr><th>1</th><td>2016-01-04</td><td>AAPL</td><td>105.349998</td><td>0.03995967436333611</td></tr><tr><th>2</th><td>2016-01-05</td><td>AAPL</td><td>102.709999</td><td>0.03995967436333611</td></tr><tr><th>3</th><td>2016-01-06</td><td>AAPL</td><td>100.699997</td><td>0.03995967436333611</td></tr><tr><th>4</th><td>2016-01-07</td><td>AAPL</td><td>96.449997</td><td>0.03995967436333611</td></tr></tbody></table>"
      ],
      "text/plain": [
       "4×4 DataFrames.DataFrame\n",
       "│ Row │ date         │ symbol │ price  │ weight    │\n",
       "├─────┼──────────────┼────────┼────────┼───────────┤\n",
       "│ 1   │ \"2016-01-04\" │ \"AAPL\" │ 105.35 │ 0.0399597 │\n",
       "│ 2   │ \"2016-01-05\" │ \"AAPL\" │ 102.71 │ 0.0399597 │\n",
       "│ 3   │ \"2016-01-06\" │ \"AAPL\" │ 100.7  │ 0.0399597 │\n",
       "│ 4   │ \"2016-01-07\" │ \"AAPL\" │ 96.45  │ 0.0399597 │"
      ]
     },
     "execution_count": 14,
     "metadata": {},
     "output_type": "execute_result"
    }
   ],
   "source": [
    "joined = join(df, weights, on=:symbol)\n",
    "\n",
    "joined[1:4, :]"
   ]
  },
  {
   "cell_type": "code",
   "execution_count": 15,
   "metadata": {},
   "outputs": [
    {
     "data": {
      "text/plain": [
       "7560-element DataArrays.DataArray{Float64,1}:\n",
       " 4.20975\n",
       " 4.10426\n",
       " 4.02394\n",
       " 3.85411\n",
       " 3.87449\n",
       " 3.93723\n",
       " 3.99437\n",
       " 3.89167\n",
       " 3.97679\n",
       " 3.88128\n",
       " 3.8625 \n",
       " 3.8677 \n",
       " 3.84812\n",
       " ⋮      \n",
       " 2.98341\n",
       " 2.99362\n",
       " 3.00317\n",
       " 2.97814\n",
       " 2.97847\n",
       " 2.97352\n",
       " 2.99296\n",
       " 2.98769\n",
       " 2.98901\n",
       " 2.97418\n",
       " 2.97583\n",
       " 2.97287"
      ]
     },
     "execution_count": 15,
     "metadata": {},
     "output_type": "execute_result"
    }
   ],
   "source": [
    "joined[:contribution] = joined[:weight] .* joined[:price]"
   ]
  },
  {
   "cell_type": "code",
   "execution_count": 16,
   "metadata": {},
   "outputs": [
    {
     "data": {
      "text/html": [
       "<table class=\"data-frame\"><thead><tr><th></th><th>date</th><th>symbol</th><th>price</th><th>weight</th><th>contribution</th></tr></thead><tbody><tr><th>1</th><td>2016-01-04</td><td>AAPL</td><td>105.349998</td><td>0.03995967436333611</td><td>4.209751614258111</td></tr><tr><th>2</th><td>2016-01-05</td><td>AAPL</td><td>102.709999</td><td>0.03995967436333611</td><td>4.104258113898577</td></tr><tr><th>3</th><td>2016-01-06</td><td>AAPL</td><td>100.699997</td><td>0.03995967436333611</td><td>4.023939088508923</td></tr><tr><th>4</th><td>2016-01-07</td><td>AAPL</td><td>96.449997</td><td>0.03995967436333611</td><td>3.8541104724647446</td></tr></tbody></table>"
      ],
      "text/plain": [
       "4×5 DataFrames.DataFrame\n",
       "│ Row │ date         │ symbol │ price  │ weight    │ contribution │\n",
       "├─────┼──────────────┼────────┼────────┼───────────┼──────────────┤\n",
       "│ 1   │ \"2016-01-04\" │ \"AAPL\" │ 105.35 │ 0.0399597 │ 4.20975      │\n",
       "│ 2   │ \"2016-01-05\" │ \"AAPL\" │ 102.71 │ 0.0399597 │ 4.10426      │\n",
       "│ 3   │ \"2016-01-06\" │ \"AAPL\" │ 100.7  │ 0.0399597 │ 4.02394      │\n",
       "│ 4   │ \"2016-01-07\" │ \"AAPL\" │ 96.45  │ 0.0399597 │ 3.85411      │"
      ]
     },
     "execution_count": 16,
     "metadata": {},
     "output_type": "execute_result"
    }
   ],
   "source": [
    "joined[1:4, :]"
   ]
  },
  {
   "cell_type": "code",
   "execution_count": 17,
   "metadata": {},
   "outputs": [
    {
     "data": {
      "text/html": [
       "<table class=\"data-frame\"><thead><tr><th></th><th>date</th><th>value</th></tr></thead><tbody><tr><th>1</th><td>2016-01-04</td><td>100.57292879489896</td></tr><tr><th>2</th><td>2016-01-05</td><td>100.51142239490156</td></tr><tr><th>3</th><td>2016-01-06</td><td>99.01420719993507</td></tr><tr><th>4</th><td>2016-01-07</td><td>96.60603263325876</td></tr></tbody></table>"
      ],
      "text/plain": [
       "4×2 DataFrames.DataFrame\n",
       "│ Row │ date         │ value   │\n",
       "├─────┼──────────────┼─────────┤\n",
       "│ 1   │ \"2016-01-04\" │ 100.573 │\n",
       "│ 2   │ \"2016-01-05\" │ 100.511 │\n",
       "│ 3   │ \"2016-01-06\" │ 99.0142 │\n",
       "│ 4   │ \"2016-01-07\" │ 96.606  │"
      ]
     },
     "execution_count": 17,
     "metadata": {},
     "output_type": "execute_result"
    }
   ],
   "source": [
    "index = by(joined, :date) do d\n",
    "    DataFrame(value = sum(d[:contribution]))\n",
    "end\n",
    "\n",
    "index[1:4, :]"
   ]
  },
  {
   "cell_type": "markdown",
   "metadata": {
    "collapsed": true
   },
   "source": [
    "## Visualization the time series"
   ]
  },
  {
   "cell_type": "code",
   "execution_count": 18,
   "metadata": {},
   "outputs": [
    {
     "data": {
      "text/plain": [
       "Plots.PyPlotBackend()"
      ]
     },
     "execution_count": 18,
     "metadata": {},
     "output_type": "execute_result"
    }
   ],
   "source": [
    "using Plots      # general plotting\n",
    "using StatPlots  # for DataFrames integration\n",
    "\n",
    "pyplot()         # backend, based on Python's matplotlib"
   ]
  },
  {
   "cell_type": "code",
   "execution_count": 19,
   "metadata": {},
   "outputs": [
    {
     "data": {
      "text/html": [
       "<img src=\"data:image/png;base64,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\" />"
      ]
     },
     "execution_count": 19,
     "metadata": {},
     "output_type": "execute_result"
    }
   ],
   "source": [
    "with(grid=false, legend=false, xticks=false, ylim=(0,300)) do\n",
    "    plot(df, :date, :price, group=:symbol, c=:grey, alpha=0.4)\n",
    "    plot!(index, :date, :value, linewidth=2)\n",
    "end"
   ]
  },
  {
   "cell_type": "code",
   "execution_count": 20,
   "metadata": {},
   "outputs": [
    {
     "data": {
      "text/html": [
       "<img src=\"data:image/png;base64,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\" />"
      ]
     },
     "execution_count": 20,
     "metadata": {},
     "output_type": "execute_result"
    }
   ],
   "source": [
    "bar(weights, :symbol, :weight, xrotation=40, color=:weight, grid=false)"
   ]
  },
  {
   "cell_type": "markdown",
   "metadata": {},
   "source": [
    "## Picking stocks"
   ]
  },
  {
   "cell_type": "code",
   "execution_count": 21,
   "metadata": {},
   "outputs": [],
   "source": [
    "using JuMP # modeling\n",
    "using Cbc  # solver backend"
   ]
  },
  {
   "cell_type": "code",
   "execution_count": 22,
   "metadata": {},
   "outputs": [
    {
     "name": "stdout",
     "output_type": "stream",
     "text": [
      "size(syms) = (30,)\n",
      "size(days) = (252,)\n"
     ]
    }
   ],
   "source": [
    "syms = [Symbol(s) for s in weights[:symbol]]\n",
    "days = 1:length(prices[:date])\n",
    "\n",
    "@show size(syms) size(days);"
   ]
  },
  {
   "cell_type": "code",
   "execution_count": 23,
   "metadata": {},
   "outputs": [
    {
     "data": {
      "text/plain": [
       "find_fund (generic function with 1 method)"
      ]
     },
     "execution_count": 23,
     "metadata": {},
     "output_type": "execute_result"
    }
   ],
   "source": [
    "function find_fund(maxstocks; timelimit=10.0, gaplimit=0.01, lastday=200)\n",
    "    days = 1:lastday\n",
    "\n",
    "    fund = Model(solver=CbcSolver(seconds=timelimit, ratioGap=gaplimit))\n",
    "\n",
    "    # decisions\n",
    "    @variable(fund, pick[syms], Bin)       # is stock included?\n",
    "    @variable(fund, fraction[syms] ≥ 0)    # what part of the portfolio\n",
    "\n",
    "    # auxiliary variables\n",
    "    @variable(fund, Δ⁺[days] ≥ 0) # positive slack\n",
    "    @variable(fund, Δ⁻[days] ≥ 0) # negative slack\n",
    "\n",
    "    # fit to Dow Jones index\n",
    "    for d in days\n",
    "        @constraint(fund, sum(prices[d,s] * fraction[s] for s in syms) == index[d, :value] + Δ⁺[d] - Δ⁻[d])\n",
    "    end\n",
    "\n",
    "    # can only use stock if picked\n",
    "    for s in syms\n",
    "        @constraint(fund, fraction[s] ≤ pick[s])\n",
    "    end\n",
    "                \n",
    "    # few stocks allowed\n",
    "    @constraint(fund, sum(pick[s] for s in syms) ≤ maxstocks)\n",
    "\n",
    "    # (why do we total to 1?)                            \n",
    "    @constraint(fund, sum(fraction[s] for s in syms) == 1.0)\n",
    "                            \n",
    "    # minimize the absolute violation (L1 norm)\n",
    "    @objective(fund, :Min, sum(Δ⁺[d] + Δ⁻[d] for d in days))\n",
    "                            \n",
    "                            \n",
    "    status = solve(fund)\n",
    "    @show status\n",
    "    \n",
    "    getvalue(fraction)\n",
    "end"
   ]
  },
  {
   "cell_type": "code",
   "execution_count": 24,
   "metadata": {},
   "outputs": [
    {
     "name": "stderr",
     "output_type": "stream",
     "text": [
      "\u001b[1m\u001b[33mWARNING: \u001b[39m\u001b[22m\u001b[33mNot solved to optimality, status: UserLimit\u001b[39m\n"
     ]
    },
    {
     "name": "stdout",
     "output_type": "stream",
     "text": [
      "status = :UserLimit\n"
     ]
    },
    {
     "data": {
      "text/plain": [
       "fraction: 1 dimensions:\n",
       "[AAPL] = 0.1748671424836071\n",
       "[ AXP] = 0.0\n",
       "[  BA] = 0.0\n",
       "[ CAT] = 0.0\n",
       "[CSCO] = 0.0\n",
       "[ CVX] = 0.0\n",
       "[  DD] = 0.0\n",
       "[ DIS] = 0.0\n",
       "[  GE] = 0.0\n",
       "[  GS] = 0.0\n",
       "[  HD] = 0.31405194197773795\n",
       "[ IBM] = 0.0\n",
       "[INTC] = 0.0\n",
       "[ JNJ] = 0.0\n",
       "[ JPM] = 0.0\n",
       "[  KO] = 0.0\n",
       "[ MCD] = 0.0\n",
       "[ MMM] = 0.0\n",
       "[ MRK] = 0.0\n",
       "[MSFT] = 0.0\n",
       "[ NKE] = 0.0\n",
       "[ PFE] = 0.0\n",
       "[  PG] = 0.0\n",
       "[ TRV] = 0.0\n",
       "[ UNH] = 0.0\n",
       "[ UTX] = 0.0\n",
       "[   V] = 0.0\n",
       "[  VZ] = 0.0\n",
       "[ WMT] = 0.0\n",
       "[ XOM] = 0.511080915538655"
      ]
     },
     "execution_count": 24,
     "metadata": {},
     "output_type": "execute_result"
    }
   ],
   "source": [
    "sol = find_fund(3, timelimit=5, lastday=100)"
   ]
  },
  {
   "cell_type": "code",
   "execution_count": 25,
   "metadata": {
    "collapsed": true
   },
   "outputs": [],
   "source": [
    "solfund = sum(sol[s] * prices[:, s] for s in syms);"
   ]
  },
  {
   "cell_type": "code",
   "execution_count": 26,
   "metadata": {},
   "outputs": [
    {
     "data": {
      "text/html": [
       "<img src=\"data:image/png;base64,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\" />"
      ]
     },
     "execution_count": 26,
     "metadata": {},
     "output_type": "execute_result"
    }
   ],
   "source": [
    "with(grid=false, xticks=false, ylim=(0,300)) do\n",
    "    plot(index, :date, :value, label=\"Dow Jones\")\n",
    "    plot!(solfund, label=\"Index Fund\")\n",
    "end"
   ]
  },
  {
   "cell_type": "code",
   "execution_count": null,
   "metadata": {
    "collapsed": true
   },
   "outputs": [],
   "source": []
  }
 ],
 "metadata": {
  "kernelspec": {
   "display_name": "Julia 0.6.0",
   "language": "julia",
   "name": "julia-0.6"
  },
  "language_info": {
   "file_extension": ".jl",
   "mimetype": "application/julia",
   "name": "julia",
   "version": "0.6.0"
  }
 },
 "nbformat": 4,
 "nbformat_minor": 2
}
