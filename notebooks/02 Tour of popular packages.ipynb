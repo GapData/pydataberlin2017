{
 "cells": [
  {
   "cell_type": "markdown",
   "metadata": {},
   "source": [
    "# Introduction to Packages"
   ]
  },
  {
   "cell_type": "code",
   "execution_count": null,
   "metadata": {
    "collapsed": false
   },
   "outputs": [],
   "source": [
    "Pkg.add(\"DataFrames\")\n",
    "\n",
    "Pkg.add(\"Plots\")\n",
    "Pkg.add(\"PyPlot\")\n",
    "Pkg.add(\"StatPlots\")\n",
    "\n",
    "Pkg.add(\"JuMP\")\n",
    "Pkg.add(\"Cbc\")"
   ]
  },
  {
   "cell_type": "markdown",
   "metadata": {},
   "source": [
    "# Creating an index fund\n",
    "\n",
    "The goal of this project is the definition of an index fund, following the Dow Jones. That is, we want to select few stocks of the index, together with weights, that show a similar behavior to the overall index.\n",
    "\n",
    "We start with price data of all the Dow Jones stocks from 2016. From the averages prices, we define weights of the stocks to be used"
   ]
  },
  {
   "cell_type": "markdown",
   "metadata": {},
   "source": [
    "## Loading the price data\n",
    "\n",
    "The data is provided in a file using comma-separated values and three columns:"
   ]
  },
  {
   "cell_type": "code",
   "execution_count": null,
   "metadata": {
    "collapsed": false
   },
   "outputs": [],
   "source": [
    ";head dowjones2016.csv"
   ]
  },
  {
   "cell_type": "markdown",
   "metadata": {},
   "source": [
    "Julia provides a function to read csv files into arrays:"
   ]
  },
  {
   "cell_type": "code",
   "execution_count": null,
   "metadata": {
    "collapsed": false
   },
   "outputs": [],
   "source": [
    "?readcsv"
   ]
  },
  {
   "cell_type": "code",
   "execution_count": null,
   "metadata": {
    "collapsed": false
   },
   "outputs": [],
   "source": [
    "data = readcsv(\"dowjones2016.csv\");\n",
    "data[1:5,:]"
   ]
  },
  {
   "cell_type": "markdown",
   "metadata": {},
   "source": [
    "But we will use the DataFrames package for easier processing."
   ]
  },
  {
   "cell_type": "code",
   "execution_count": null,
   "metadata": {
    "collapsed": true
   },
   "outputs": [],
   "source": [
    "using DataFrames"
   ]
  },
  {
   "cell_type": "code",
   "execution_count": null,
   "metadata": {
    "collapsed": false,
    "scrolled": true
   },
   "outputs": [],
   "source": [
    "?readtable"
   ]
  },
  {
   "cell_type": "code",
   "execution_count": null,
   "metadata": {
    "collapsed": false
   },
   "outputs": [],
   "source": [
    "df = readtable(\"dowjones2016.csv\")\n",
    "df[1:4, :]"
   ]
  },
  {
   "cell_type": "markdown",
   "metadata": {},
   "source": [
    "We can now access the columns by name:"
   ]
  },
  {
   "cell_type": "code",
   "execution_count": null,
   "metadata": {
    "collapsed": false
   },
   "outputs": [],
   "source": [
    "df[:price]"
   ]
  },
  {
   "cell_type": "markdown",
   "metadata": {},
   "source": [
    "Let's compute mean prices for the stocks, using a groupby-and-aggregate approach."
   ]
  },
  {
   "cell_type": "code",
   "execution_count": null,
   "metadata": {
    "collapsed": false
   },
   "outputs": [],
   "source": [
    "?by"
   ]
  },
  {
   "cell_type": "code",
   "execution_count": null,
   "metadata": {
    "collapsed": false
   },
   "outputs": [],
   "source": [
    "avg = by(df, :symbol) do d\n",
    "    DataFrame(avgprice = mean(d[:price]))\n",
    "end\n",
    "\n",
    "avg[1:4, :]"
   ]
  },
  {
   "cell_type": "markdown",
   "metadata": {},
   "source": [
    "We can now use these averages to compute weights."
   ]
  },
  {
   "cell_type": "code",
   "execution_count": null,
   "metadata": {
    "collapsed": false
   },
   "outputs": [],
   "source": [
    "weights = DataFrame(symbol = avg[:symbol], weight = avg[:avgprice] / sum(avg[:avgprice]))"
   ]
  },
  {
   "cell_type": "markdown",
   "metadata": {},
   "source": [
    "We can also _pivot_ the table into a two-way format."
   ]
  },
  {
   "cell_type": "code",
   "execution_count": null,
   "metadata": {
    "collapsed": false
   },
   "outputs": [],
   "source": [
    "?unstack"
   ]
  },
  {
   "cell_type": "code",
   "execution_count": null,
   "metadata": {
    "collapsed": false
   },
   "outputs": [],
   "source": [
    "#                    rows   columns  data\n",
    "prices = unstack(df, :date, :symbol, :price)\n",
    "\n",
    "prices[1:4, 1:4]"
   ]
  },
  {
   "cell_type": "code",
   "execution_count": null,
   "metadata": {
    "collapsed": false
   },
   "outputs": [],
   "source": [
    "joined = join(df, weights, on=:symbol)\n",
    "\n",
    "joined[1:4, :]"
   ]
  },
  {
   "cell_type": "code",
   "execution_count": null,
   "metadata": {
    "collapsed": false
   },
   "outputs": [],
   "source": [
    "joined[:contribution] = joined[:weight] .* joined[:price]"
   ]
  },
  {
   "cell_type": "code",
   "execution_count": null,
   "metadata": {
    "collapsed": false
   },
   "outputs": [],
   "source": [
    "joined[1:4, :]"
   ]
  },
  {
   "cell_type": "code",
   "execution_count": null,
   "metadata": {
    "collapsed": false
   },
   "outputs": [],
   "source": [
    "index = by(joined, :date) do d\n",
    "    DataFrame(value = sum(d[:contribution]))\n",
    "end\n",
    "\n",
    "index[1:4, :]"
   ]
  },
  {
   "cell_type": "markdown",
   "metadata": {
    "collapsed": true
   },
   "source": [
    "## Visualization the time series"
   ]
  },
  {
   "cell_type": "code",
   "execution_count": null,
   "metadata": {
    "collapsed": false
   },
   "outputs": [],
   "source": [
    "using Plots      # general plotting\n",
    "using StatPlots  # for DataFrames integration\n",
    "\n",
    "pyplot()         # backend, based on Python's matplotlib"
   ]
  },
  {
   "cell_type": "code",
   "execution_count": null,
   "metadata": {
    "collapsed": false
   },
   "outputs": [],
   "source": [
    "with(grid=false, legend=false, xticks=false, ylim=(0,300)) do\n",
    "    plot(df, :date, :price, group=:symbol, c=:grey, alpha=0.4)\n",
    "    plot!(index, :date, :value, linewidth=2)\n",
    "end"
   ]
  },
  {
   "cell_type": "code",
   "execution_count": null,
   "metadata": {
    "collapsed": false
   },
   "outputs": [],
   "source": [
    "bar(weights, :symbol, :weight, xrotation=40, color=:weight, grid=false)"
   ]
  },
  {
   "cell_type": "markdown",
   "metadata": {},
   "source": [
    "## Picking stocks"
   ]
  },
  {
   "cell_type": "code",
   "execution_count": null,
   "metadata": {
    "collapsed": true
   },
   "outputs": [],
   "source": [
    "using JuMP # modeling\n",
    "using Cbc  # solver backend"
   ]
  },
  {
   "cell_type": "code",
   "execution_count": null,
   "metadata": {
    "collapsed": false
   },
   "outputs": [],
   "source": [
    "syms = [Symbol(s) for s in weights[:symbol]]\n",
    "days = 1:length(prices[:date])\n",
    "\n",
    "@show size(syms) size(days);"
   ]
  },
  {
   "cell_type": "code",
   "execution_count": null,
   "metadata": {
    "collapsed": false
   },
   "outputs": [],
   "source": [
    "function find_fund(maxstocks; timelimit=10.0, gaplimit=0.01, lastday=200)\n",
    "    days = 1:lastday\n",
    "\n",
    "    fund = Model(solver=CbcSolver(seconds=timelimit, ratioGap=gaplimit))\n",
    "\n",
    "    # decisions\n",
    "    @variable(fund, pick[syms], Bin)       # is stock included?\n",
    "    @variable(fund, fraction[syms] ≥ 0)    # what part of the portfolio\n",
    "\n",
    "    # auxiliary variables\n",
    "    @variable(fund, Δ⁺[days] ≥ 0) # positive slack\n",
    "    @variable(fund, Δ⁻[days] ≥ 0) # negative slack\n",
    "\n",
    "    # fit to Dow Jones index\n",
    "    for d in days\n",
    "        @constraint(fund, sum(prices[d,s] * fraction[s] for s in syms) == index[d, :value] + Δ⁺[d] - Δ⁻[d])\n",
    "    end\n",
    "\n",
    "    # can only use stock if picked\n",
    "    for s in syms\n",
    "        @constraint(fund, fraction[s] ≤ pick[s])\n",
    "    end\n",
    "                \n",
    "    # few stocks allowed\n",
    "    @constraint(fund, sum(pick[s] for s in syms) ≤ maxstocks)\n",
    "\n",
    "    # (why do we total to 1?)                            \n",
    "    @constraint(fund, sum(fraction[s] for s in syms) == 1.0)\n",
    "                            \n",
    "    # minimize the absolute violation (L1 norm)\n",
    "    @objective(fund, :Min, sum(Δ⁺[d] + Δ⁻[d] for d in days))\n",
    "                            \n",
    "                            \n",
    "    status = solve(fund)\n",
    "    @show status\n",
    "    \n",
    "    getvalue(fraction)\n",
    "end"
   ]
  },
  {
   "cell_type": "code",
   "execution_count": null,
   "metadata": {
    "collapsed": false
   },
   "outputs": [],
   "source": [
    "sol = find_fund(3, timelimit=5, lastday=100)"
   ]
  },
  {
   "cell_type": "code",
   "execution_count": null,
   "metadata": {
    "collapsed": true
   },
   "outputs": [],
   "source": [
    "solfund = sum(sol[s] * prices[:, s] for s in syms);"
   ]
  },
  {
   "cell_type": "code",
   "execution_count": null,
   "metadata": {
    "collapsed": false
   },
   "outputs": [],
   "source": [
    "with(grid=false, xticks=false, ylim=(0,300)) do\n",
    "    plot(index, :date, :value, label=\"Dow Jones\")\n",
    "    plot!(solfund, label=\"Index Fund\")\n",
    "end"
   ]
  },
  {
   "cell_type": "code",
   "execution_count": null,
   "metadata": {
    "collapsed": true
   },
   "outputs": [],
   "source": []
  }
 ],
 "metadata": {
  "kernelspec": {
   "display_name": "Julia 0.6.0",
   "language": "julia",
   "name": "julia-0.6"
  },
  "language_info": {
   "file_extension": ".jl",
   "mimetype": "application/julia",
   "name": "julia",
   "version": "0.6.0"
  }
 },
 "nbformat": 4,
 "nbformat_minor": 2
}
