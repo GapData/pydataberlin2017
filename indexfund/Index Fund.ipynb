{
 "cells": [
  {
   "cell_type": "markdown",
   "metadata": {},
   "source": [
    "# Creating an index fund\n",
    "\n",
    "The goal of this project is the definition of an index fund, following the Dow Jones. That is, we want to select few stocks of the index, together with weights, that show a similar behavior to the overall index.\n",
    "\n",
    "We start with price data of all the Dow Jones stocks from 2016. From the averages prices, we define weights of the stocks to be used"
   ]
  },
  {
   "cell_type": "markdown",
   "metadata": {},
   "source": [
    "## Loading the price data\n",
    "\n",
    "The data is provided in a file using comma-separated values and three columns:"
   ]
  },
  {
   "cell_type": "code",
   "execution_count": 4,
   "metadata": {
    "collapsed": false
   },
   "outputs": [
    {
     "name": "stdout",
     "output_type": "stream",
     "text": [
      "date,symbol,price\n",
      "2016-01-04,AAPL,105.349997999999999\n",
      "2016-01-04,AXP,67.589995999999999\n",
      "2016-01-04,BA,140.500000000000000\n",
      "2016-01-04,CAT,67.989998000000000\n",
      "2016-01-04,CSCO,26.410000000000000\n",
      "2016-01-04,CVX,88.849997999999999\n",
      "2016-01-04,DD,63.070000000000000\n",
      "2016-01-04,DIS,102.980002999999996\n",
      "2016-01-04,GE,30.709999000000000\n"
     ]
    }
   ],
   "source": [
    ";head dowjones2016.csv"
   ]
  },
  {
   "cell_type": "markdown",
   "metadata": {},
   "source": [
    "Julia provides a function to read csv files into arrays:"
   ]
  },
  {
   "cell_type": "code",
   "execution_count": 5,
   "metadata": {
    "collapsed": false
   },
   "outputs": [
    {
     "name": "stdout",
     "output_type": "stream",
     "text": [
      "search: \u001b[1mr\u001b[22m\u001b[1me\u001b[22m\u001b[1ma\u001b[22m\u001b[1md\u001b[22m\u001b[1mc\u001b[22m\u001b[1ms\u001b[22m\u001b[1mv\u001b[22m \u001b[1mr\u001b[22m\u001b[1me\u001b[22m\u001b[1ma\u001b[22m\u001b[1md\u001b[22m\u001b[1mc\u001b[22mhomp @th\u001b[1mr\u001b[22m\u001b[1me\u001b[22m\u001b[1ma\u001b[22m\u001b[1md\u001b[22m\u001b[1mc\u001b[22mall\n",
      "\n"
     ]
    },
    {
     "data": {
      "text/markdown": [
       "```\n",
       "readcsv(source, [T::Type]; options...)\n",
       "```\n",
       "\n",
       "Equivalent to `readdlm` with `delim` set to comma, and type optionally defined by `T`.\n"
      ],
      "text/plain": [
       "```\n",
       "readcsv(source, [T::Type]; options...)\n",
       "```\n",
       "\n",
       "Equivalent to `readdlm` with `delim` set to comma, and type optionally defined by `T`.\n"
      ]
     },
     "execution_count": 5,
     "metadata": {},
     "output_type": "execute_result"
    }
   ],
   "source": [
    "?readcsv"
   ]
  },
  {
   "cell_type": "code",
   "execution_count": 11,
   "metadata": {
    "collapsed": false
   },
   "outputs": [
    {
     "data": {
      "text/plain": [
       "5×3 Array{Any,2}:\n",
       " \"date\"        \"symbol\"     \"price\"\n",
       " \"2016-01-04\"  \"AAPL\"    105.35    \n",
       " \"2016-01-04\"  \"AXP\"      67.59    \n",
       " \"2016-01-04\"  \"BA\"      140.5     \n",
       " \"2016-01-04\"  \"CAT\"      67.99    "
      ]
     },
     "execution_count": 11,
     "metadata": {},
     "output_type": "execute_result"
    }
   ],
   "source": [
    "data = readcsv(\"dowjones2016.csv\");\n",
    "data[1:5,:]"
   ]
  },
  {
   "cell_type": "markdown",
   "metadata": {},
   "source": [
    "But we will use the DataFrames package for easier processing."
   ]
  },
  {
   "cell_type": "code",
   "execution_count": 12,
   "metadata": {
    "collapsed": false
   },
   "outputs": [
    {
     "name": "stderr",
     "output_type": "stream",
     "text": [
      "\u001b[1m\u001b[34mINFO: Precompiling module DataFrames.\n",
      "\u001b[0mWARNING: Method definition describe(AbstractArray) in module StatsBase at /home/rs/.julia/v0.5/StatsBase/src/scalarstats.jl:573 overwritten in module DataFrames at /home/rs/.julia/v0.5/DataFrames/src/abstractdataframe/abstractdataframe.jl:407.\n",
      "WARNING: Method definition describe(AbstractArray) in module StatsBase at /home/rs/.julia/v0.5/StatsBase/src/scalarstats.jl:573 overwritten in module DataFrames at /home/rs/.julia/v0.5/DataFrames/src/abstractdataframe/abstractdataframe.jl:407.\n"
     ]
    }
   ],
   "source": [
    "using DataFrames"
   ]
  },
  {
   "cell_type": "code",
   "execution_count": 13,
   "metadata": {
    "collapsed": false,
    "scrolled": true
   },
   "outputs": [
    {
     "name": "stdout",
     "output_type": "stream",
     "text": [
      "search: \u001b[1mr\u001b[22m\u001b[1me\u001b[22m\u001b[1ma\u001b[22m\u001b[1md\u001b[22m\u001b[1mt\u001b[22m\u001b[1ma\u001b[22m\u001b[1mb\u001b[22m\u001b[1ml\u001b[22m\u001b[1me\u001b[22m\n",
      "\n"
     ]
    },
    {
     "data": {
      "text/markdown": [
       "Read data from a tabular-file format (CSV, TSV, ...)\n",
       "\n",
       "```julia\n",
       "readtable(filename, [keyword options])\n",
       "```\n",
       "\n",
       "### Arguments\n",
       "\n",
       "  * `filename::AbstractString` : the filename to be read\n",
       "\n",
       "### Keyword Arguments\n",
       "\n",
       "  * `header::Bool` – Use the information from the file's header line to determine column names. Defaults to `true`.\n",
       "  * `separator::Char` – Assume that fields are split by the `separator` character. If not specified, it will be guessed from the filename: `.csv` defaults to `','`, `.tsv` defaults to `'\t'`, `.wsv` defaults to `' '`.\n",
       "  * `quotemark::Vector{Char}` – Assume that fields contained inside of two `quotemark` characters are quoted, which disables processing of separators and linebreaks. Set to `Char[]` to disable this feature and slightly improve performance. Defaults to `['\"']`.\n",
       "  * `decimal::Char` – Assume that the decimal place in numbers is written using the `decimal` character. Defaults to `'.'`.\n",
       "  * `nastrings::Vector{String}` – Translate any of the strings into this vector into an `NA`. Defaults to `[\"\", \"NA\"]`.\n",
       "  * `truestrings::Vector{String}` – Translate any of the strings into this vector into a Boolean `true`. Defaults to `[\"T\", \"t\", \"TRUE\", \"true\"]`.\n",
       "  * `falsestrings::Vector{String}` – Translate any of the strings into this vector into a Boolean `false`. Defaults to `[\"F\", \"f\", \"FALSE\", \"false\"]`.\n",
       "  * `makefactors::Bool` – Convert string columns into `PooledDataVector`'s for use as factors. Defaults to `false`.\n",
       "  * `nrows::Int` – Read only `nrows` from the file. Defaults to `-1`, which indicates that the entire file should be read.\n",
       "  * `names::Vector{Symbol}` – Use the values in this array as the names for all columns instead of or in lieu of the names in the file's header. Defaults to `[]`, which indicates that the header should be used if present or that numeric names should be invented if there is no header.\n",
       "  * `eltypes::Vector` – Specify the types of all columns. Defaults to `[]`.\n",
       "  * `allowcomments::Bool` – Ignore all text inside comments. Defaults to `false`.\n",
       "  * `commentmark::Char` – Specify the character that starts comments. Defaults to `'#'`.\n",
       "  * `ignorepadding::Bool` – Ignore all whitespace on left and right sides of a field. Defaults to `true`.\n",
       "  * `skipstart::Int` – Specify the number of initial rows to skip. Defaults to `0`.\n",
       "  * `skiprows::Vector{Int}` – Specify the indices of lines in the input to ignore. Defaults to `[]`.\n",
       "  * `skipblanks::Bool` – Skip any blank lines in input. Defaults to `true`.\n",
       "  * `encoding::Symbol` – Specify the file's encoding as either `:utf8` or `:latin1`. Defaults to `:utf8`.\n",
       "  * `normalizenames::Bool` – Ensure that column names are valid Julia identifiers. For instance this renames a column named `\"a b\"` to `\"a_b\"` which can then be accessed with `:a_b` instead of `Symbol(\"a b\")`. Defaults to `true`.\n",
       "\n",
       "### Result\n",
       "\n",
       "  * `::DataFrame`\n",
       "\n",
       "### Examples\n",
       "\n",
       "```julia\n",
       "df = readtable(\"data.csv\")\n",
       "df = readtable(\"data.tsv\")\n",
       "df = readtable(\"data.wsv\")\n",
       "df = readtable(\"data.txt\", separator = '\t')\n",
       "df = readtable(\"data.txt\", header = false)\n",
       "```\n"
      ],
      "text/plain": [
       "Read data from a tabular-file format (CSV, TSV, ...)\n",
       "\n",
       "```julia\n",
       "readtable(filename, [keyword options])\n",
       "```\n",
       "\n",
       "### Arguments\n",
       "\n",
       "  * `filename::AbstractString` : the filename to be read\n",
       "\n",
       "### Keyword Arguments\n",
       "\n",
       "  * `header::Bool` – Use the information from the file's header line to determine column names. Defaults to `true`.\n",
       "  * `separator::Char` – Assume that fields are split by the `separator` character. If not specified, it will be guessed from the filename: `.csv` defaults to `','`, `.tsv` defaults to `'\t'`, `.wsv` defaults to `' '`.\n",
       "  * `quotemark::Vector{Char}` – Assume that fields contained inside of two `quotemark` characters are quoted, which disables processing of separators and linebreaks. Set to `Char[]` to disable this feature and slightly improve performance. Defaults to `['\"']`.\n",
       "  * `decimal::Char` – Assume that the decimal place in numbers is written using the `decimal` character. Defaults to `'.'`.\n",
       "  * `nastrings::Vector{String}` – Translate any of the strings into this vector into an `NA`. Defaults to `[\"\", \"NA\"]`.\n",
       "  * `truestrings::Vector{String}` – Translate any of the strings into this vector into a Boolean `true`. Defaults to `[\"T\", \"t\", \"TRUE\", \"true\"]`.\n",
       "  * `falsestrings::Vector{String}` – Translate any of the strings into this vector into a Boolean `false`. Defaults to `[\"F\", \"f\", \"FALSE\", \"false\"]`.\n",
       "  * `makefactors::Bool` – Convert string columns into `PooledDataVector`'s for use as factors. Defaults to `false`.\n",
       "  * `nrows::Int` – Read only `nrows` from the file. Defaults to `-1`, which indicates that the entire file should be read.\n",
       "  * `names::Vector{Symbol}` – Use the values in this array as the names for all columns instead of or in lieu of the names in the file's header. Defaults to `[]`, which indicates that the header should be used if present or that numeric names should be invented if there is no header.\n",
       "  * `eltypes::Vector` – Specify the types of all columns. Defaults to `[]`.\n",
       "  * `allowcomments::Bool` – Ignore all text inside comments. Defaults to `false`.\n",
       "  * `commentmark::Char` – Specify the character that starts comments. Defaults to `'#'`.\n",
       "  * `ignorepadding::Bool` – Ignore all whitespace on left and right sides of a field. Defaults to `true`.\n",
       "  * `skipstart::Int` – Specify the number of initial rows to skip. Defaults to `0`.\n",
       "  * `skiprows::Vector{Int}` – Specify the indices of lines in the input to ignore. Defaults to `[]`.\n",
       "  * `skipblanks::Bool` – Skip any blank lines in input. Defaults to `true`.\n",
       "  * `encoding::Symbol` – Specify the file's encoding as either `:utf8` or `:latin1`. Defaults to `:utf8`.\n",
       "  * `normalizenames::Bool` – Ensure that column names are valid Julia identifiers. For instance this renames a column named `\"a b\"` to `\"a_b\"` which can then be accessed with `:a_b` instead of `Symbol(\"a b\")`. Defaults to `true`.\n",
       "\n",
       "### Result\n",
       "\n",
       "  * `::DataFrame`\n",
       "\n",
       "### Examples\n",
       "\n",
       "```julia\n",
       "df = readtable(\"data.csv\")\n",
       "df = readtable(\"data.tsv\")\n",
       "df = readtable(\"data.wsv\")\n",
       "df = readtable(\"data.txt\", separator = '\t')\n",
       "df = readtable(\"data.txt\", header = false)\n",
       "```\n"
      ]
     },
     "execution_count": 13,
     "metadata": {},
     "output_type": "execute_result"
    }
   ],
   "source": [
    "?readtable"
   ]
  },
  {
   "cell_type": "code",
   "execution_count": 43,
   "metadata": {
    "collapsed": false
   },
   "outputs": [
    {
     "data": {
      "text/html": [
       "<table class=\"data-frame\"><thead><tr><th></th><th>date</th><th>symbol</th><th>price</th></tr></thead><tbody><tr><th>1</th><td>2016-01-04</td><td>AAPL</td><td>105.349998</td></tr><tr><th>2</th><td>2016-01-04</td><td>AXP</td><td>67.589996</td></tr><tr><th>3</th><td>2016-01-04</td><td>BA</td><td>140.5</td></tr><tr><th>4</th><td>2016-01-04</td><td>CAT</td><td>67.989998</td></tr></tbody></table>"
      ],
      "text/plain": [
       "4×3 DataFrames.DataFrame\n",
       "│ Row │ date         │ symbol │ price  │\n",
       "├─────┼──────────────┼────────┼────────┤\n",
       "│ 1   │ \"2016-01-04\" │ \"AAPL\" │ 105.35 │\n",
       "│ 2   │ \"2016-01-04\" │ \"AXP\"  │ 67.59  │\n",
       "│ 3   │ \"2016-01-04\" │ \"BA\"   │ 140.5  │\n",
       "│ 4   │ \"2016-01-04\" │ \"CAT\"  │ 67.99  │"
      ]
     },
     "execution_count": 43,
     "metadata": {},
     "output_type": "execute_result"
    }
   ],
   "source": [
    "df = readtable(\"dowjones2016.csv\")\n",
    "df[1:4, :]"
   ]
  },
  {
   "cell_type": "markdown",
   "metadata": {},
   "source": [
    "We can now access the columns by name:"
   ]
  },
  {
   "cell_type": "code",
   "execution_count": 26,
   "metadata": {
    "collapsed": false
   },
   "outputs": [
    {
     "data": {
      "text/plain": [
       "7560-element DataArrays.DataArray{Float64,1}:\n",
       " 105.35\n",
       "  67.59\n",
       " 140.5 \n",
       "  67.99\n",
       "  26.41\n",
       "  88.85\n",
       "  63.07\n",
       " 102.98\n",
       "  30.71\n",
       " 177.14\n",
       " 131.07\n",
       " 135.95\n",
       "  33.99\n",
       "   ⋮   \n",
       "  58.87\n",
       "  62.14\n",
       "  50.83\n",
       "  32.48\n",
       "  84.08\n",
       " 122.42\n",
       " 160.04\n",
       " 109.62\n",
       "  78.02\n",
       "  53.38\n",
       "  69.12\n",
       "  90.26"
      ]
     },
     "execution_count": 26,
     "metadata": {},
     "output_type": "execute_result"
    }
   ],
   "source": [
    "df[:price]"
   ]
  },
  {
   "cell_type": "markdown",
   "metadata": {},
   "source": [
    "Let's compute mean prices for the stocks, using a groupby-and-aggregate approach."
   ]
  },
  {
   "cell_type": "code",
   "execution_count": 35,
   "metadata": {
    "collapsed": false
   },
   "outputs": [
    {
     "name": "stdout",
     "output_type": "stream",
     "text": [
      "search: \u001b[1mb\u001b[22m\u001b[1my\u001b[22m \u001b[1mb\u001b[22m\u001b[1my\u001b[22mtes2hex \u001b[1mb\u001b[22m\u001b[1my\u001b[22mtestring read\u001b[1mb\u001b[22m\u001b[1my\u001b[22mtes hex2\u001b[1mb\u001b[22m\u001b[1my\u001b[22mtes read\u001b[1mb\u001b[22m\u001b[1my\u001b[22mtes! group\u001b[1mb\u001b[22m\u001b[1my\u001b[22m su\u001b[1mb\u001b[22mt\u001b[1my\u001b[22mpes\n",
      "\n"
     ]
    },
    {
     "data": {
      "text/markdown": [
       "Split-apply-combine in one step; apply `f` to each grouping in `d` based on columns `col`\n",
       "\n",
       "```julia\n",
       "by(d::AbstractDataFrame, cols, f::Function)\n",
       "by(f::Function, d::AbstractDataFrame, cols)\n",
       "```\n",
       "\n",
       "### Arguments\n",
       "\n",
       "  * `d` : an AbstractDataFrame\n",
       "  * `cols` : a column indicator (Symbol, Int, Vector{Symbol}, etc.)\n",
       "  * `f` : a function to be applied to groups; expects each argument to be an AbstractDataFrame\n",
       "\n",
       "`f` can return a value, a vector, or a DataFrame. For a value or vector, these are merged into a column along with the `cols` keys. For a DataFrame, `cols` are combined along columns with the resulting DataFrame. Returning a DataFrame is the clearest because it allows column labeling.\n",
       "\n",
       "A method is defined with `f` as the first argument, so do-block notation can be used.\n",
       "\n",
       "`by(d, cols, f)` is equivalent to `combine(map(f, groupby(d, cols)))`.\n",
       "\n",
       "### Returns\n",
       "\n",
       "  * `::DataFrame`\n",
       "\n",
       "### Examples\n",
       "\n",
       "```julia\n",
       "df = DataFrame(a = repeat([1, 2, 3, 4], outer=[2]),\n",
       "               b = repeat([2, 1], outer=[4]),\n",
       "               c = randn(8))\n",
       "by(df, :a, d -> sum(d[:c]))\n",
       "by(df, :a, d -> 2 * d[:c])\n",
       "by(df, :a, d -> DataFrame(c_sum = sum(d[:c]), c_mean = mean(d[:c])))\n",
       "by(df, :a, d -> DataFrame(c = d[:c], c_mean = mean(d[:c])))\n",
       "by(df, [:a, :b]) do d\n",
       "    DataFrame(m = mean(d[:c]), v = var(d[:c]))\n",
       "end\n",
       "```\n"
      ],
      "text/plain": [
       "Split-apply-combine in one step; apply `f` to each grouping in `d` based on columns `col`\n",
       "\n",
       "```julia\n",
       "by(d::AbstractDataFrame, cols, f::Function)\n",
       "by(f::Function, d::AbstractDataFrame, cols)\n",
       "```\n",
       "\n",
       "### Arguments\n",
       "\n",
       "  * `d` : an AbstractDataFrame\n",
       "  * `cols` : a column indicator (Symbol, Int, Vector{Symbol}, etc.)\n",
       "  * `f` : a function to be applied to groups; expects each argument to be an AbstractDataFrame\n",
       "\n",
       "`f` can return a value, a vector, or a DataFrame. For a value or vector, these are merged into a column along with the `cols` keys. For a DataFrame, `cols` are combined along columns with the resulting DataFrame. Returning a DataFrame is the clearest because it allows column labeling.\n",
       "\n",
       "A method is defined with `f` as the first argument, so do-block notation can be used.\n",
       "\n",
       "`by(d, cols, f)` is equivalent to `combine(map(f, groupby(d, cols)))`.\n",
       "\n",
       "### Returns\n",
       "\n",
       "  * `::DataFrame`\n",
       "\n",
       "### Examples\n",
       "\n",
       "```julia\n",
       "df = DataFrame(a = repeat([1, 2, 3, 4], outer=[2]),\n",
       "               b = repeat([2, 1], outer=[4]),\n",
       "               c = randn(8))\n",
       "by(df, :a, d -> sum(d[:c]))\n",
       "by(df, :a, d -> 2 * d[:c])\n",
       "by(df, :a, d -> DataFrame(c_sum = sum(d[:c]), c_mean = mean(d[:c])))\n",
       "by(df, :a, d -> DataFrame(c = d[:c], c_mean = mean(d[:c])))\n",
       "by(df, [:a, :b]) do d\n",
       "    DataFrame(m = mean(d[:c]), v = var(d[:c]))\n",
       "end\n",
       "```\n"
      ]
     },
     "execution_count": 35,
     "metadata": {},
     "output_type": "execute_result"
    }
   ],
   "source": [
    "?by"
   ]
  },
  {
   "cell_type": "code",
   "execution_count": 42,
   "metadata": {
    "collapsed": false
   },
   "outputs": [
    {
     "data": {
      "text/html": [
       "<table class=\"data-frame\"><thead><tr><th></th><th>symbol</th><th>avgprice</th></tr></thead><tbody><tr><th>1</th><td>AAPL</td><td>104.6040078690476</td></tr><tr><th>2</th><td>AXP</td><td>63.79333337698412</td></tr><tr><th>3</th><td>BA</td><td>133.11150809920633</td></tr><tr><th>4</th><td>CAT</td><td>78.69801573015873</td></tr></tbody></table>"
      ],
      "text/plain": [
       "4×2 DataFrames.DataFrame\n",
       "│ Row │ symbol │ avgprice │\n",
       "├─────┼────────┼──────────┤\n",
       "│ 1   │ \"AAPL\" │ 104.604  │\n",
       "│ 2   │ \"AXP\"  │ 63.7933  │\n",
       "│ 3   │ \"BA\"   │ 133.112  │\n",
       "│ 4   │ \"CAT\"  │ 78.698   │"
      ]
     },
     "execution_count": 42,
     "metadata": {},
     "output_type": "execute_result"
    }
   ],
   "source": [
    "avg = by(df, :symbol) do d\n",
    "    DataFrame(avgprice = mean(d[:price]))\n",
    "end\n",
    "\n",
    "avg[1:4, :]"
   ]
  },
  {
   "cell_type": "markdown",
   "metadata": {},
   "source": [
    "We can now use these averages to compute weights."
   ]
  },
  {
   "cell_type": "code",
   "execution_count": 56,
   "metadata": {
    "collapsed": false
   },
   "outputs": [
    {
     "data": {
      "text/html": [
       "<table class=\"data-frame\"><thead><tr><th></th><th>symbol</th><th>weight</th></tr></thead><tbody><tr><th>1</th><td>AAPL</td><td>0.03995967436333611</td></tr><tr><th>2</th><td>AXP</td><td>0.02436962866171713</td></tr><tr><th>3</th><td>BA</td><td>0.05084979654236352</td></tr><tr><th>4</th><td>CAT</td><td>0.030063351736529197</td></tr><tr><th>5</th><td>CSCO</td><td>0.010997918367605105</td></tr><tr><th>6</th><td>CVX</td><td>0.038152635259507614</td></tr><tr><th>7</th><td>DD</td><td>0.0252800076388129</td></tr><tr><th>8</th><td>DIS</td><td>0.037231281104193714</td></tr><tr><th>9</th><td>GE</td><td>0.011592973206120454</td></tr><tr><th>10</th><td>GS</td><td>0.06460300033518845</td></tr><tr><th>11</th><td>HD</td><td>0.04959253206291251</td></tr><tr><th>12</th><td>IBM</td><td>0.05749805714807221</td></tr><tr><th>13</th><td>INTC</td><td>0.012732027088307772</td></tr><tr><th>14</th><td>JNJ</td><td>0.04339901378297297</td></tr><tr><th>15</th><td>JPM</td><td>0.02506850807141437</td></tr><tr><th>16</th><td>KO</td><td>0.016634582669936473</td></tr><tr><th>17</th><td>MCD</td><td>0.04589524565592229</td></tr><tr><th>18</th><td>MMM</td><td>0.06437326462895059</td></tr><tr><th>19</th><td>MRK</td><td>0.021960531210091856</td></tr><tr><th>20</th><td>MSFT</td><td>0.021109560574682877</td></tr><tr><th>21</th><td>NKE</td><td>0.02148696132579114</td></tr><tr><th>22</th><td>PFE</td><td>0.012539794717248217</td></tr><tr><th>23</th><td>PG</td><td>0.03198003663171145</td></tr><tr><th>24</th><td>TRV</td><td>0.043329600314333847</td></tr><tr><th>25</th><td>UNH</td><td>0.051728796139020365</td></tr><tr><th>26</th><td>UTX</td><td>0.03867006052039629</td></tr><tr><th>27</th><td>V</td><td>0.02975976073814797</td></tr><tr><th>28</th><td>VZ</td><td>0.01963709779524481</td></tr><tr><th>29</th><td>WMT</td><td>0.02656760544583329</td></tr><tr><th>30</th><td>XOM</td><td>0.03293669626363464</td></tr></tbody></table>"
      ],
      "text/plain": [
       "30×2 DataFrames.DataFrame\n",
       "│ Row │ symbol │ weight    │\n",
       "├─────┼────────┼───────────┤\n",
       "│ 1   │ \"AAPL\" │ 0.0399597 │\n",
       "│ 2   │ \"AXP\"  │ 0.0243696 │\n",
       "│ 3   │ \"BA\"   │ 0.0508498 │\n",
       "│ 4   │ \"CAT\"  │ 0.0300634 │\n",
       "│ 5   │ \"CSCO\" │ 0.0109979 │\n",
       "│ 6   │ \"CVX\"  │ 0.0381526 │\n",
       "│ 7   │ \"DD\"   │ 0.02528   │\n",
       "│ 8   │ \"DIS\"  │ 0.0372313 │\n",
       "│ 9   │ \"GE\"   │ 0.011593  │\n",
       "│ 10  │ \"GS\"   │ 0.064603  │\n",
       "│ 11  │ \"HD\"   │ 0.0495925 │\n",
       "⋮\n",
       "│ 19  │ \"MRK\"  │ 0.0219605 │\n",
       "│ 20  │ \"MSFT\" │ 0.0211096 │\n",
       "│ 21  │ \"NKE\"  │ 0.021487  │\n",
       "│ 22  │ \"PFE\"  │ 0.0125398 │\n",
       "│ 23  │ \"PG\"   │ 0.03198   │\n",
       "│ 24  │ \"TRV\"  │ 0.0433296 │\n",
       "│ 25  │ \"UNH\"  │ 0.0517288 │\n",
       "│ 26  │ \"UTX\"  │ 0.0386701 │\n",
       "│ 27  │ \"V\"    │ 0.0297598 │\n",
       "│ 28  │ \"VZ\"   │ 0.0196371 │\n",
       "│ 29  │ \"WMT\"  │ 0.0265676 │\n",
       "│ 30  │ \"XOM\"  │ 0.0329367 │"
      ]
     },
     "execution_count": 56,
     "metadata": {},
     "output_type": "execute_result"
    }
   ],
   "source": [
    "weights = DataFrame(symbol = avg[:symbol], weight = avg[:avgprice] / sum(avg[:avgprice]))"
   ]
  },
  {
   "cell_type": "code",
   "execution_count": 57,
   "metadata": {
    "collapsed": false
   },
   "outputs": [
    {
     "data": {
      "text/html": [
       "<table class=\"data-frame\"><thead><tr><th></th><th>date</th><th>symbol</th><th>price</th><th>weight</th></tr></thead><tbody><tr><th>1</th><td>2016-01-04</td><td>AAPL</td><td>105.349998</td><td>0.03995967436333611</td></tr><tr><th>2</th><td>2016-01-05</td><td>AAPL</td><td>102.709999</td><td>0.03995967436333611</td></tr><tr><th>3</th><td>2016-01-06</td><td>AAPL</td><td>100.699997</td><td>0.03995967436333611</td></tr><tr><th>4</th><td>2016-01-07</td><td>AAPL</td><td>96.449997</td><td>0.03995967436333611</td></tr></tbody></table>"
      ],
      "text/plain": [
       "4×4 DataFrames.DataFrame\n",
       "│ Row │ date         │ symbol │ price  │ weight    │\n",
       "├─────┼──────────────┼────────┼────────┼───────────┤\n",
       "│ 1   │ \"2016-01-04\" │ \"AAPL\" │ 105.35 │ 0.0399597 │\n",
       "│ 2   │ \"2016-01-05\" │ \"AAPL\" │ 102.71 │ 0.0399597 │\n",
       "│ 3   │ \"2016-01-06\" │ \"AAPL\" │ 100.7  │ 0.0399597 │\n",
       "│ 4   │ \"2016-01-07\" │ \"AAPL\" │ 96.45  │ 0.0399597 │"
      ]
     },
     "execution_count": 57,
     "metadata": {},
     "output_type": "execute_result"
    }
   ],
   "source": [
    "joined = join(df, weights, on=:symbol)\n",
    "\n",
    "joined[1:4, :]"
   ]
  },
  {
   "cell_type": "code",
   "execution_count": 59,
   "metadata": {
    "collapsed": false
   },
   "outputs": [
    {
     "data": {
      "text/plain": [
       "7560-element DataArrays.DataArray{Float64,1}:\n",
       " 4.20975\n",
       " 4.10426\n",
       " 4.02394\n",
       " 3.85411\n",
       " 3.87449\n",
       " 3.93723\n",
       " 3.99437\n",
       " 3.89167\n",
       " 3.97679\n",
       " 3.88128\n",
       " 3.8625 \n",
       " 3.8677 \n",
       " 3.84812\n",
       " ⋮      \n",
       " 2.98341\n",
       " 2.99362\n",
       " 3.00317\n",
       " 2.97814\n",
       " 2.97847\n",
       " 2.97352\n",
       " 2.99296\n",
       " 2.98769\n",
       " 2.98901\n",
       " 2.97418\n",
       " 2.97583\n",
       " 2.97287"
      ]
     },
     "execution_count": 59,
     "metadata": {},
     "output_type": "execute_result"
    }
   ],
   "source": [
    "joined[:contribution] = joined[:weight] .* joined[:price]"
   ]
  },
  {
   "cell_type": "code",
   "execution_count": 62,
   "metadata": {
    "collapsed": false
   },
   "outputs": [
    {
     "data": {
      "text/html": [
       "<table class=\"data-frame\"><thead><tr><th></th><th>date</th><th>value</th></tr></thead><tbody><tr><th>1</th><td>2016-01-04</td><td>100.57292879489896</td></tr><tr><th>2</th><td>2016-01-05</td><td>100.51142239490156</td></tr><tr><th>3</th><td>2016-01-06</td><td>99.01420719993507</td></tr><tr><th>4</th><td>2016-01-07</td><td>96.60603263325876</td></tr></tbody></table>"
      ],
      "text/plain": [
       "4×2 DataFrames.DataFrame\n",
       "│ Row │ date         │ value   │\n",
       "├─────┼──────────────┼─────────┤\n",
       "│ 1   │ \"2016-01-04\" │ 100.573 │\n",
       "│ 2   │ \"2016-01-05\" │ 100.511 │\n",
       "│ 3   │ \"2016-01-06\" │ 99.0142 │\n",
       "│ 4   │ \"2016-01-07\" │ 96.606  │"
      ]
     },
     "execution_count": 62,
     "metadata": {},
     "output_type": "execute_result"
    }
   ],
   "source": [
    "index = by(joined, :date) do d\n",
    "    DataFrame(value = sum(d[:contribution]))\n",
    "end\n",
    "\n",
    "index[1:4, :]"
   ]
  },
  {
   "cell_type": "code",
   "execution_count": null,
   "metadata": {
    "collapsed": true
   },
   "outputs": [],
   "source": []
  }
 ],
 "metadata": {
  "kernelspec": {
   "display_name": "Julia 0.5.0",
   "language": "julia",
   "name": "julia-0.5"
  },
  "language_info": {
   "file_extension": ".jl",
   "mimetype": "application/julia",
   "name": "julia",
   "version": "0.5.0"
  }
 },
 "nbformat": 4,
 "nbformat_minor": 2
}
